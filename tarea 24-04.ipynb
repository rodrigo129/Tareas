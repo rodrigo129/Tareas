{
 "cells": [
  {
   "cell_type": "code",
   "execution_count": 1,
   "metadata": {},
   "outputs": [
    {
     "name": "stdout",
     "output_type": "stream",
     "text": [
      "ingrese el tamaño de la lista 3\n",
      "ingrese el nombre a añadir qw\n",
      "ingrese el nombre a añadir as\n",
      "ingrese el nombre a añadir zx\n",
      "hola qw\n",
      "hola as\n",
      "hola zx\n"
     ]
    }
   ],
   "source": [
    "a=int(input(\"ingrese el tamaño de la lista \"))\n",
    "lista=[]\n",
    "i=0\n",
    "while i<a:\n",
    "    lista.append(input(\"ingrese el nombre a añadir \"))\n",
    "    i=i+1\n",
    "for element in lista:\n",
    "    print (\"hola \"+str(element))"
   ]
  },
  {
   "cell_type": "code",
   "execution_count": 26,
   "metadata": {},
   "outputs": [
    {
     "name": "stdout",
     "output_type": "stream",
     "text": [
      "ingrese el tamaño maximo de la lista 4\n",
      "ingrese el nombre a añadir o escriba 'salir()' para dejar de añadir nombres as\n",
      "ingrese el nombre a añadir o escriba 'salir()' para dejar de añadir nombres qw\n",
      "ingrese el nombre a añadir o escriba 'salir()' para dejar de añadir nombres zx\n",
      "ingrese el nombre a añadir o escriba 'salir()' para dejar de añadir nombres salir()\n",
      "saliendo de lista \n",
      "lista: ['as', 'qw', 'zx']\n",
      "para agregar mas invitados, si es que queda espacio en la lista ingrese 'agregar()' \n",
      ",si desea eliminar invitado ingrese 'eliminar()'\n",
      ",si desea cambiar invitados de la lista ingrese 'cambiar()'\n",
      "si no desea hacer cambios ingrese 'salir()'\n",
      "salir()\n",
      "saliendo\n",
      "3/4 espacios ocupados\n",
      "lista:  ['as', 'qw', 'zx']\n"
     ]
    }
   ],
   "source": [
    "\n",
    "# -*- coding: latin-1 -*-\n",
    "a=int(input(\"ingrese el tamaño maximo de la lista \"))\n",
    "lista=[]\n",
    "i=0\n",
    "while i<a:\n",
    "    nombre=str(input(\"ingrese el nombre a añadir o escriba 'salir()' para dejar de añadir nombres \")).strip().casefold()\n",
    "    if nombre==\"salir()\":\n",
    "        print(\"saliendo de lista \")\n",
    "        break\n",
    "    else:\n",
    "        lista.append(nombre)\n",
    "        i=i+1\n",
    "while 1==1:\n",
    "    print(\"lista: \"+str(lista))\n",
    "    print(\"para agregar mas invitados, si es que queda espacio en la lista ingrese 'agregar()' \")\n",
    "    print(\",si desea eliminar invitado ingrese 'eliminar()'\")\n",
    "    print(\",si desea cambiar invitados de la lista ingrese 'cambiar()'\")\n",
    "    print(\"si no desea hacer cambios ingrese 'salir()'\")\n",
    "    caso=str(input()).strip().casefold()\n",
    "    if caso==\"salir()\":\n",
    "        print(\"saliendo\")\n",
    "        break\n",
    "    if caso==\"agregar()\":\n",
    "        i=0\n",
    "        for e in lista:\n",
    "            i=i+1\n",
    "        while i<a:\n",
    "            print(str(i)+\"/\"+str(a))\n",
    "            print(\"lista: \"+str(lista))\n",
    "            nombre=str(input(\"ingrese el nombre a añadir o escriba 'salir()' para dejar de añadir nombres \")).strip().casefold()\n",
    "            if nombre==\"salir()\":\n",
    "                print(\"saliendo de lista \")\n",
    "                break\n",
    "            else:\n",
    "                lista.append(nombre)\n",
    "                i=i+1\n",
    "    if caso==\"eliminar()\":\n",
    "        print(lista)\n",
    "        caso=input(\"ingrese el nombre que quiere eliminar de la lista o salir() para cancelar \")\n",
    "        if(caso==\"salir()\"):\n",
    "            print(\"saliendo\")\n",
    "        elif caso in lista:\n",
    "            lista.pop(lista.index(caso))\n",
    "        else:\n",
    "            print (\"el nombre no se encuentra en la lista\")\n",
    "    if caso==\"cambiar()\":\n",
    "            print(lista)\n",
    "            caso=input(\"ingrese el nombre que quiere cambiar de la lista o salir() para cancelar \")\n",
    "            if caso==\"salir()\":\n",
    "                break\n",
    "            if caso in lista:\n",
    "                i=lista.index(caso)\n",
    "                lista.pop(i)\n",
    "                lista.insert(i,input(\"ingrese el nombre que quiere poner \"))\n",
    "            else:\n",
    "                print(\"el nombre no se encuentra en la lista\" )\n",
    "    caso=\"\"\n",
    "i=0\n",
    "for e in lista:\n",
    "    i=i+1\n",
    "print(str(i)+\"/\"+str(a)+\" espacios ocupados\")\n",
    "print(\"lista: \",lista)"
   ]
  },
  {
   "cell_type": "code",
   "execution_count": 15,
   "metadata": {},
   "outputs": [
    {
     "name": "stdout",
     "output_type": "stream",
     "text": [
      "tamaño de la lista, 4\n",
      "8 512 [64, 216]\n"
     ]
    }
   ],
   "source": [
    "a=int(input(\"tamaño de la lista, \"))\n",
    "lista=[]\n",
    "for e in((range(2,(a*2)+1,2))):\n",
    "    lista.append(e**3)\n",
    "print (str((lista.pop(0))),str(lista.pop(-1)),lista)"
   ]
  },
  {
   "cell_type": "code",
   "execution_count": 5,
   "metadata": {},
   "outputs": [
    {
     "name": "stdout",
     "output_type": "stream",
     "text": [
      "ingrese el tamaño de la lista 3\n",
      "ingrese el nombre de usuario qw qw\n",
      "los nombres de usuario no pueden tener espacios entre medio \n",
      "ingrese el nombre de usuario \n",
      "ingrese el nombre de usuario \n",
      "el nombre ya esta en uso \n",
      "ingrese el nombre de usuario \n",
      "el nombre ya esta en uso \n",
      "ingrese el nombre de usuario \n",
      "el nombre ya esta en uso \n",
      "ingrese el nombre de usuario \n",
      "el nombre ya esta en uso \n",
      "ingrese el nombre de usuario \n",
      "el nombre ya esta en uso \n",
      "ingrese el nombre de usuario qw\n",
      "ingrese el nombre de usuario as\n",
      "['', 'qw', 'as']\n"
     ]
    }
   ],
   "source": [
    "a=int(input(\"ingrese el tamaño de la lista \"))\n",
    "i=0\n",
    "lista=[]\n",
    "while i<a:\n",
    "    nombre=input(\"ingrese el nombre de usuario \").strip()\n",
    "    b=nombre\n",
    "    b=b.casefold()\n",
    "    if len(b.split())>1 or b==\"\":\n",
    "        print (\"los nombres de usuario no pueden tener espacios entre medio \")\n",
    "    elif nombre in lista:\n",
    "        print (\"el nombre ya esta en uso \")\n",
    "    elif b.strip(\",.-_<>!#$%&/()=?¡!¨´+}\")== \"admin\":\n",
    "        print (\"el nombre de usuario admin no esta permitido\")\n",
    "    else:\n",
    "        lista.append(nombre)\n",
    "        i=i+1\n",
    "print (lista)"
   ]
  },
  {
   "cell_type": "code",
   "execution_count": 12,
   "metadata": {},
   "outputs": [
    {
     "name": "stdout",
     "output_type": "stream",
     "text": [
      "ingrese los datos que quiera agregar al diccionario, 'key' 'dato' o 'salir()'para salirqw as\n",
      "{'Qw': 'As'}\n",
      "ingrese los datos que quiera agregar al diccionario, 'key' 'dato' o 'salir()'para salirzx as\n",
      "{'Qw': 'As', 'Zx': 'As'}\n",
      "ingrese los datos que quiera agregar al diccionario, 'key' 'dato' o 'salir()'para salirqw\n",
      "el texto ingresado no es el esperado, ingrese otra vez \n",
      "ingrese los datos que quiera agregar al diccionario, 'key' 'dato' o 'salir()'para salirsalir()\n",
      "saliendo\n"
     ]
    }
   ],
   "source": [
    "dicc={}\n",
    "inp=\"\"\n",
    "while 1==1:\n",
    "    inp=input(\"ingrese los datos que quiera agregar al diccionario, 'key' 'dato' o 'salir()'para salir\").strip().casefold()\n",
    "    if inp==\"salir()\":\n",
    "        print(\"saliendo\")\n",
    "        break\n",
    "    elif len(inp.split())==2:\n",
    "        a=inp.split()\n",
    "        dicc[str(a[0]).capitalize()]= str(a[1]).capitalize()\n",
    "        print(dicc)\n",
    "    else:\n",
    "        print (\"el texto ingresado no es el esperado, ingrese otra vez \")\n",
    "\n"
   ]
  },
  {
   "cell_type": "code",
   "execution_count": 25,
   "metadata": {},
   "outputs": [
    {
     "name": "stdout",
     "output_type": "stream",
     "text": [
      "ingrese su lugar favorito o salir() para terminar la encuesta ZX\n",
      "ingrese su lugar favorito o salir() para terminar la encuesta zx\n",
      "ingrese su lugar favorito o salir() para terminar la encuesta Zx\n",
      "ingrese su lugar favorito o salir() para terminar la encuesta zX\n",
      "ingrese su lugar favorito o salir() para terminar la encuesta salir()\n",
      "['zx', 'zx', 'zx', 'zx'] zx while 4\n",
      "['zx', 'zx', 'zx'] zx while 3\n",
      "['zx', 'zx'] zx while 2\n",
      "['zx'] zx while 1\n",
      "{'zx': 4}\n"
     ]
    }
   ],
   "source": [
    "lista=[]\n",
    "resultado={}\n",
    "while 1==1:\n",
    "    a=input(\"ingrese su lugar favorito o salir() para terminar la encuesta \").strip().casefold()\n",
    "    if a==\"salir()\":\n",
    "        break\n",
    "    else:\n",
    "        lista.append(a)\n",
    "for e in lista:\n",
    "    i=lista.count(e)\n",
    "    resultado[str(e)]=i\n",
    "    while i>0:\n",
    "        print(lista,e,\"while\",i)\n",
    "        lista.pop(lista.index(str(e)))\n",
    "        i=i-1\n",
    "print(resultado)\n",
    "    "
   ]
  },
  {
   "cell_type": "code",
   "execution_count": null,
   "metadata": {},
   "outputs": [
    {
     "name": "stdout",
     "output_type": "stream",
     "text": [
      "ingrese los datos que quiera agregar al diccionario, 'key' 'dato' o 'salir()'para salirqa\n",
      "el texto ingresado no es el esperado, ingrese otra vez \n",
      "ingrese los datos que quiera agregar al diccionario, 'key' 'dato' o 'salir()'para salir \n",
      "el texto ingresado no es el esperado, ingrese otra vez \n",
      "ingrese los datos que quiera agregar al diccionario, 'key' 'dato' o 'salir()'para salir  \n",
      "el texto ingresado no es el esperado, ingrese otra vez \n",
      "ingrese los datos que quiera agregar al diccionario, 'key' 'dato' o 'salir()'para salir \n",
      "el texto ingresado no es el esperado, ingrese otra vez \n",
      "ingrese los datos que quiera agregar al diccionario, 'key' 'dato' o 'salir()'para salir \n",
      "el texto ingresado no es el esperado, ingrese otra vez \n",
      "ingrese los datos que quiera agregar al diccionario, 'key' 'dato' o 'salir()'para salir \n",
      "el texto ingresado no es el esperado, ingrese otra vez \n",
      "ingrese los datos que quiera agregar al diccionario, 'key' 'dato' o 'salir()'para salir      \n",
      "el texto ingresado no es el esperado, ingrese otra vez \n"
     ]
    }
   ],
   "source": [
    "def añadir(dicc_l,inp_l):\n",
    "    if len(inp_l.split())==2:\n",
    "        a=inp.split()\n",
    "        dicc_l[str(a[0]).capitalize()]= str(a[1]).capitalize()\n",
    "        print(dicc_l)\n",
    "        return dicc_l\n",
    "    else:\n",
    "        print (\"el texto ingresado no es el esperado, ingrese otra vez \")\n",
    "        pass\n",
    "dicc={}\n",
    "inp=\"\"\n",
    "while 1==1:\n",
    "    inp=input(\"ingrese los datos que quiera agregar al diccionario, 'key' 'dato' o 'salir()'para salir\").strip().casefold()\n",
    "    if inp==\"salir()\":\n",
    "        print(\"saliendo\")\n",
    "        break\n",
    "    else:\n",
    "        dicc=añadir(dicc,inp)\n",
    "    \n"
   ]
  },
  {
   "cell_type": "code",
   "execution_count": 10,
   "metadata": {},
   "outputs": [
    {
     "name": "stdout",
     "output_type": "stream",
     "text": [
      "ingrese el tamaño de la lista 2\n",
      "ingrese el nombre de usuario \n",
      "los nombres de usuario no pueden tener espacios entre medio \n",
      "ingrese el nombre de usuario \n",
      "los nombres de usuario no pueden tener espacios entre medio \n",
      "ingrese el nombre de usuario \n",
      "los nombres de usuario no pueden tener espacios entre medio \n",
      "ingrese el nombre de usuario \n",
      "los nombres de usuario no pueden tener espacios entre medio \n",
      "ingrese el nombre de usuario qw\n",
      "ingrese el nombre de usuario as\n",
      "['qw', 'as']\n"
     ]
    }
   ],
   "source": [
    "def condicion (nombre_l,lista_l):\n",
    "    b=str(nombre_l)\n",
    "    b=b.casefold()\n",
    "    if (len(b.split())>1) or b==\"\":\n",
    "        print (\"los nombres de usuario no pueden tener espacios entre medio \")\n",
    "        return bool(1)\n",
    "    elif str(nombre_l) in lista_l:\n",
    "        print (\"el nombre ya esta en uso \")\n",
    "        return bool(1)\n",
    "    elif b.strip(\",.-_<>!#$%&/()=?¡!¨´+}\")== \"admin\":\n",
    "        print (\"el nombre de usuario admin no esta permitido\")\n",
    "        return bool(1)\n",
    "    else:\n",
    "        return bool(0)\n",
    "\n",
    "a=int(input(\"ingrese el tamaño de la lista \"))\n",
    "i=0\n",
    "lista=[]\n",
    "while i<a:\n",
    "    nombre=input(\"ingrese el nombre de usuario \").strip()\n",
    "    if condicion(nombre,lista):\n",
    "        i=i\n",
    "    else:\n",
    "        lista.append(nombre)\n",
    "        i=i+1\n",
    "print(lista)"
   ]
  },
  {
   "cell_type": "code",
   "execution_count": null,
   "metadata": {},
   "outputs": [],
   "source": []
  },
  {
   "cell_type": "code",
   "execution_count": null,
   "metadata": {},
   "outputs": [],
   "source": []
  },
  {
   "cell_type": "code",
   "execution_count": 7,
   "metadata": {},
   "outputs": [
    {
     "name": "stdout",
     "output_type": "stream",
     "text": [
      "a\n",
      "True\n"
     ]
    }
   ],
   "source": []
  },
  {
   "cell_type": "code",
   "execution_count": 8,
   "metadata": {},
   "outputs": [
    {
     "name": "stdout",
     "output_type": "stream",
     "text": [
      "a\n",
      "True\n"
     ]
    }
   ],
   "source": []
  },
  {
   "cell_type": "code",
   "execution_count": null,
   "metadata": {},
   "outputs": [],
   "source": []
  }
 ],
 "metadata": {
  "kernelspec": {
   "display_name": "Python 3",
   "language": "python",
   "name": "python3"
  },
  "language_info": {
   "codemirror_mode": {
    "name": "ipython",
    "version": 3
   },
   "file_extension": ".py",
   "mimetype": "text/x-python",
   "name": "python",
   "nbconvert_exporter": "python",
   "pygments_lexer": "ipython3",
   "version": "3.7.3"
  }
 },
 "nbformat": 4,
 "nbformat_minor": 2
}
